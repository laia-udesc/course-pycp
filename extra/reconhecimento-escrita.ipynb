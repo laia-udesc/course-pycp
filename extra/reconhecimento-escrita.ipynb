{
 "cells": [
  {
   "cell_type": "markdown",
   "id": "a11898e4",
   "metadata": {},
   "source": [
    "# Reconhecimento de escrita à mão\n",
    "\n",
    "**Classificação de imagens (MNIST) usando um modelo de random forest**\n",
    "\n",
    "***"
   ]
  },
  {
   "cell_type": "markdown",
   "id": "d65da377",
   "metadata": {},
   "source": [
    "## Importação dos pacotes necessários"
   ]
  },
  {
   "cell_type": "code",
   "execution_count": 1,
   "id": "7d6ac44e",
   "metadata": {},
   "outputs": [],
   "source": [
    "import matplotlib.pyplot as plt\n",
    "from sklearn.datasets import load_digits\n",
    "import pylab as pl\n",
    "import random\n",
    "from sklearn import ensemble\n",
    "\n",
    "%matplotlib inline"
   ]
  },
  {
   "cell_type": "markdown",
   "id": "78449232",
   "metadata": {},
   "source": [
    "***\n",
    "\n",
    "## Carregar as imagens, transformá-las para escala de cinza e mostrar"
   ]
  },
  {
   "cell_type": "code",
   "execution_count": 2,
   "id": "daa4d027",
   "metadata": {},
   "outputs": [
    {
     "data": {
      "text/plain": [
       "<Figure size 432x288 with 0 Axes>"
      ]
     },
     "metadata": {},
     "output_type": "display_data"
    },
    {
     "data": {
      "image/png": "[encoded data removed]",
      "text/plain": [
       "<Figure size 288x288 with 1 Axes>"
      ]
     },
     "metadata": {
      "needs_background": "light"
     },
     "output_type": "display_data"
    },
    {
     "name": "stdout",
     "output_type": "stream",
     "text": [
      "[[ 0.  0.  5. 13.  9.  1.  0.  0.]\n",
      " [ 0.  0. 13. 15. 10. 15.  5.  0.]\n",
      " [ 0.  3. 15.  2.  0. 11.  8.  0.]\n",
      " [ 0.  4. 12.  0.  0.  8.  8.  0.]\n",
      " [ 0.  5.  8.  0.  0.  9.  8.  0.]\n",
      " [ 0.  4. 11.  0.  1. 12.  7.  0.]\n",
      " [ 0.  2. 14.  5. 10. 12.  0.  0.]\n",
      " [ 0.  0.  6. 13. 10.  0.  0.  0.]]\n"
     ]
    }
   ],
   "source": [
    "digits = load_digits()\n",
    "\n",
    "pl.gray() \n",
    "pl.matshow(digits.images[0])\n",
    "pl.show()\n",
    "\n",
    "print(digits.images[0])"
   ]
  },
  {
   "cell_type": "markdown",
   "id": "d0a8da79",
   "metadata": {},
   "source": [
    "***\n",
    "\n",
    "## Mostrar várias imagens na forma de grade"
   ]
  },
  {
   "cell_type": "code",
   "execution_count": 3,
   "id": "085d399f",
   "metadata": {},
   "outputs": [
    {
     "data": {
      "image/png": "[encoded data removed]",
      "text/plain": [
       "<Figure size 504x720 with 50 Axes>"
      ]
     },
     "metadata": {
      "needs_background": "light"
     },
     "output_type": "display_data"
    }
   ],
   "source": [
    "images_and_labels = list(zip(digits.images, digits.target))\n",
    "plt.figure(figsize=(7,10))\n",
    "for index, (image, label) in enumerate(images_and_labels[:50]):\n",
    "    plt.subplot(5, 10, index + 1)\n",
    "    plt.axis('off')\n",
    "    plt.imshow(image, cmap=plt.cm.gray_r, interpolation='nearest')\n",
    "    plt.title('%i' % label)"
   ]
  },
  {
   "cell_type": "markdown",
   "id": "d8c8d14a",
   "metadata": {},
   "source": [
    "***\n",
    "\n",
    "## Preparar os conjuntos de treinamento e teste\n",
    "\n",
    "+ **Preparar os dados e selecionar índices aleatórios para esses conjuntos**"
   ]
  },
  {
   "cell_type": "code",
   "execution_count": 15,
   "id": "42764ef2",
   "metadata": {},
   "outputs": [],
   "source": [
    "x = digits.images.reshape((len(digits.images), -1))\n",
    "y = digits.target\n",
    "\n",
    "train_indices = random.sample(range(len(x)),int(len(x)/5)) # 20%\n",
    "test_indices = [i for i in range(len(x)) if i not in train_indices] # 80%"
   ]
  },
  {
   "cell_type": "markdown",
   "id": "142ead9c",
   "metadata": {},
   "source": [
    "+ **Separar as imagens dos rótulos**"
   ]
  },
  {
   "cell_type": "code",
   "execution_count": 16,
   "id": "b8204116",
   "metadata": {},
   "outputs": [],
   "source": [
    "# Imagens\n",
    "train_images = [x[i] for i in train_indices]\n",
    "test_images = [x[i] for i in test_indices]\n",
    "\n",
    "# Rótulos\n",
    "train_labels = [y[i] for i in train_indices]\n",
    "test_labels = [y[i] for i in test_indices]"
   ]
  },
  {
   "cell_type": "markdown",
   "id": "7d445287",
   "metadata": {},
   "source": [
    "***\n",
    "\n",
    "## Criar, treinar e avaliar o classificador"
   ]
  },
  {
   "cell_type": "code",
   "execution_count": 17,
   "id": "f0bb675b",
   "metadata": {},
   "outputs": [
    {
     "name": "stdout",
     "output_type": "stream",
     "text": [
      "Desempenho: 0.9429763560500696\n"
     ]
    }
   ],
   "source": [
    "classifier = ensemble.RandomForestClassifier()\n",
    "classifier.fit(train_images, train_labels)\n",
    "\n",
    "score = classifier.score(test_images, test_labels)\n",
    "print(f'Desempenho: {score}')"
   ]
  },
  {
   "cell_type": "markdown",
   "id": "689aa822",
   "metadata": {},
   "source": [
    "***\n",
    "\n",
    "## Usar o classificador criado"
   ]
  },
  {
   "cell_type": "code",
   "execution_count": 7,
   "id": "8645e167",
   "metadata": {},
   "outputs": [],
   "source": [
    "def use(index):\n",
    "    pl.gray() \n",
    "    pl.matshow(digits.images[index]) \n",
    "    pl.show() \n",
    "    print(f'Classificação: {classifier.predict(x[index].reshape(-1, 64))[0]}')\n",
    "    print(f'Classe real: {y[index]}')"
   ]
  },
  {
   "cell_type": "code",
   "execution_count": 9,
   "id": "4000003b",
   "metadata": {},
   "outputs": [
    {
     "data": {
      "text/plain": [
       "<Figure size 432x288 with 0 Axes>"
      ]
     },
     "metadata": {},
     "output_type": "display_data"
    },
    {
     "data": {
      "image/png": "[encoded data removed]",
      "text/plain": [
       "<Figure size 288x288 with 1 Axes>"
      ]
     },
     "metadata": {
      "needs_background": "light"
     },
     "output_type": "display_data"
    },
    {
     "name": "stdout",
     "output_type": "stream",
     "text": [
      "Classificação: 3\n",
      "Classe real: 3\n"
     ]
    }
   ],
   "source": [
    "use(1248)"
   ]
  }
 ],
 "metadata": {
  "kernelspec": {
   "display_name": "Python 3 (ipykernel)",
   "language": "python",
   "name": "python3"
  },
  "language_info": {
   "codemirror_mode": {
    "name": "ipython",
    "version": 3
   },
   "file_extension": ".py",
   "mimetype": "text/x-python",
   "name": "python",
   "nbconvert_exporter": "python",
   "pygments_lexer": "ipython3",
   "version": "3.8.10"
  }
 },
 "nbformat": 4,
 "nbformat_minor": 5
}
